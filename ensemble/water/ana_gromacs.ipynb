{
 "cells": [
  {
   "cell_type": "code",
   "execution_count": 9,
   "metadata": {},
   "outputs": [],
   "source": [
    "# enable plotting in notebook\n",
    "%matplotlib notebook"
   ]
  },
  {
   "cell_type": "markdown",
   "metadata": {},
   "source": [
    "# Check ensemble of water system using GROMACS input files"
   ]
  },
  {
   "cell_type": "markdown",
   "metadata": {},
   "source": [
    "## Prepare checks"
   ]
  },
  {
   "cell_type": "markdown",
   "metadata": {},
   "source": [
    "Start by importing the `physical_validation` package.\n",
    "Please refer to http://physical-validation.readthedocs.io/ for the full documentation."
   ]
  },
  {
   "cell_type": "code",
   "execution_count": 1,
   "metadata": {},
   "outputs": [],
   "source": [
    "import physical_validation as pv"
   ]
  },
  {
   "cell_type": "markdown",
   "metadata": {},
   "source": [
    "Create a GROMACS parser, which needs the location of the GROMACS executable and the location of the topology include folder as inputs. Here, we assume that `gmx` is in the PATH, and that the topology folder is in its standard location. Change this if your local installation differs from this."
   ]
  },
  {
   "cell_type": "code",
   "execution_count": 5,
   "metadata": {},
   "outputs": [],
   "source": [
    "gmx = pv.data.GromacsParser(exe='~/bin/gromacs/2018/single/bin/gmx',\n",
    "                            includepath='/usr/local/share/gromacs/top/')"
   ]
  },
  {
   "cell_type": "markdown",
   "metadata": {},
   "source": [
    "We'll test simulations ran with two thermostats:\n",
    "`vr` stands for velocity-rescale, `be` for Berendsen thermostat."
   ]
  },
  {
   "cell_type": "code",
   "execution_count": 6,
   "metadata": {},
   "outputs": [],
   "source": [
    "algos = ['vr', 'be']"
   ]
  },
  {
   "cell_type": "markdown",
   "metadata": {},
   "source": [
    "We'll test simulations performed in two ensembles: NVT and NPT. \n",
    "Note that in NPT, the `vr` thermostat was complemented with a Parinello-Rahman barostat, while the `be` thermostat was complemented with a Berendsen barostat."
   ]
  },
  {
   "cell_type": "code",
   "execution_count": 7,
   "metadata": {},
   "outputs": [],
   "source": [
    "ensembles = ['NVT', 'NPT']"
   ]
  },
  {
   "cell_type": "markdown",
   "metadata": {},
   "source": [
    "The number of simulations performed in each ensemble:\n",
    "\n",
    "* We use 4 simulations for NPT: (T, P), (T+dT, P), (T, P+dP), (T+dT, P+dP)\n",
    "* We need 2 simulations for NVT: T and T+dT"
   ]
  },
  {
   "cell_type": "code",
   "execution_count": 8,
   "metadata": {},
   "outputs": [],
   "source": [
    "sims = {\n",
    "    'NPT': 4,\n",
    "    'NVT': 2\n",
    "}"
   ]
  },
  {
   "cell_type": "markdown",
   "metadata": {},
   "source": [
    "Prepare a dictionary we will store the parsed data in"
   ]
  },
  {
   "cell_type": "code",
   "execution_count": null,
   "metadata": {},
   "outputs": [],
   "source": [
    "simulations = {}"
   ]
  },
  {
   "cell_type": "markdown",
   "metadata": {},
   "source": [
    "## Run checks"
   ]
  },
  {
   "cell_type": "markdown",
   "metadata": {},
   "source": [
    "Now that we have prepared the above variables, we will perform the checks. For every thermostat algorithm (velocity-rescale, Berendsen), we will check whether the expected ratio of probability is found in both constant-volume (NVT) and constant-pressure (NPT) simulations."
   ]
  },
  {
   "cell_type": "code",
   "execution_count": null,
   "metadata": {},
   "outputs": [],
   "source": [
    "# Loop over the different thermostats and ensembles\n",
    "for a in algos:\n",
    "    simulations[a] = {}\n",
    "    for e in ensembles:\n",
    "        simulations[a][e] = []\n",
    "        # Parse 4 simulations for NPT, 2 simulations for NVT\n",
    "        for n in range(1, sims[e]+1):\n",
    "            # Set directory\n",
    "            d = 'md_' + e + '_' + a + '_' + str(n) + '/'\n",
    "            # Read in the simulation results using the GROMACS parser.\n",
    "            # This uses the `mdp` parameter file and the `top` topology file\n",
    "            # to gather information about the system and the simulation settings,\n",
    "            # and read the results from the `edr` file (trajectory of energy /\n",
    "            # volume / pressure / ...) and the `gro` file (position and velocity\n",
    "            # snapshot - used to read the box volume in NVT)\n",
    "            simulations[a][e].append(\n",
    "                gmx.get_simulation_data(\n",
    "                    mdp=d + 'mdout.mdp',\n",
    "                    top='top/system.top',\n",
    "                    edr=d + 'system.edr',\n",
    "                    gro=d + 'system.gro'\n",
    "                )\n",
    "            )\n",
    "            \n",
    "            # Test the kinetic energy distribution of the simulation result\n",
    "            # read in last.\n",
    "            # The first input is the simulation results read in,\n",
    "            # `strict` determines whether we test the full distribution (True)\n",
    "            # or only determine the mean and the variance of the distribution (False),\n",
    "            # `verbosity` sets the level of detail of the output  (with verbosity=0\n",
    "            # being quiet and verbosity=3 being the most chatty),\n",
    "            # and the filename is being used to plot the resulting distribution for\n",
    "            # visual inspection.\n",
    "            print('==> Kinetic energy test of simulation ' + e + '_' + a + '_' + str(n))\n",
    "            pv.kinetic_energy.distribution(simulations[a][e][-1], strict=True, verbosity=2)\n",
    "            pv.kinetic_energy.distribution(simulations[a][e][-1], strict=False, verbosity=2,\n",
    "                                           filename='_'.join(['ke', a, e, str(n)]))\n",
    "\n",
    "        # Now that we have all simulations of the current thermostat and ensemble\n",
    "        # read in, we can test the distribution of the potential energy and (for NPT)\n",
    "        # the volume. While the first two inputs to the tests are the parsed simulation\n",
    "        # results, `verbosity` sets the level of detail of the output  (with verbosity=0\n",
    "        # being quiet and verbosity=3 being the most chatty), and the filename is being\n",
    "        # used to plot the resulting distribution for visual inspection.\n",
    "        if e == 'NVT':\n",
    "            pv.ensemble.check(simulations[a][e][0], simulations[a][e][1],\n",
    "                              verbosity=2, filename='_'.join(['pe', a, e]))\n",
    "        else:\n",
    "            # There are three checks we can do: \n",
    "            #   * P(E_1 | T, P) / P(E_2 | T+dT, P), \n",
    "            #   * P(V_1 | T, P) / P(V_2 | T, P+dP), and\n",
    "            #   * P(E_1, V_1 | T, P) / P(E_2, V_2 | T+dT, P+dP)\n",
    "            pv.ensemble.check(simulations[a][e][0], simulations[a][e][1],\n",
    "                              verbosity=2, filename='_'.join(['pe', a, e, 'dT']))\n",
    "            pv.ensemble.check(simulations[a][e][0], simulations[a][e][2],\n",
    "                              verbosity=2, filename='_'.join(['pe', a, e, 'dP']))\n",
    "            pv.ensemble.check(simulations[a][e][0], simulations[a][e][3],\n",
    "                              verbosity=2) # Plotting for the 2D case is not supported"
   ]
  }
 ],
 "metadata": {
  "kernelspec": {
   "display_name": "Python 3",
   "language": "python",
   "name": "python3"
  },
  "language_info": {
   "codemirror_mode": {
    "name": "ipython",
    "version": 3
   },
   "file_extension": ".py",
   "mimetype": "text/x-python",
   "name": "python",
   "nbconvert_exporter": "python",
   "pygments_lexer": "ipython3",
   "version": "3.6.6"
  }
 },
 "nbformat": 4,
 "nbformat_minor": 2
}
