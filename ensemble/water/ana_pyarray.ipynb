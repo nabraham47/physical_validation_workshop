{
 "cells": [
  {
   "cell_type": "code",
   "execution_count": null,
   "metadata": {},
   "outputs": [],
   "source": [
    "# enable plotting in notebook\n",
    "%matplotlib notebook"
   ]
  },
  {
   "cell_type": "markdown",
   "metadata": {},
   "source": [
    "# Check ensemble of water system using python arrays"
   ]
  },
  {
   "cell_type": "markdown",
   "metadata": {},
   "source": [
    "## Prepare checks"
   ]
  },
  {
   "cell_type": "markdown",
   "metadata": {},
   "source": [
    "Start by importing the `physical_validation` package.\n",
    "Please refer to http://physical-validation.readthedocs.io/ for the full documentation. We will also need `numpy`."
   ]
  },
  {
   "cell_type": "code",
   "execution_count": 7,
   "metadata": {},
   "outputs": [],
   "source": [
    "import physical_validation as pv\n",
    "import numpy as np"
   ]
  },
  {
   "cell_type": "markdown",
   "metadata": {},
   "source": [
    "Our test system consists of 900 H2O molecules whose bonds are fully constrained. During the simulation, we kept the translation of the center of mass to zero, so we need to reduce the number of degrees of freedom by 3."
   ]
  },
  {
   "cell_type": "code",
   "execution_count": 2,
   "metadata": {},
   "outputs": [],
   "source": [
    "system = pv.data.SystemData(\n",
    "    natoms=900*3,\n",
    "    nconstraints=900*3,\n",
    "    ndof_reduction_tra=3,\n",
    "    ndof_reduction_rot=0\n",
    ")"
   ]
  },
  {
   "cell_type": "markdown",
   "metadata": {},
   "source": [
    "The physical validation tests need some information on the units that were used in the simulation. While the strings are only used for output, the conversion respective to GROMACS units are relevant for the calculations. Please see the documentation for more information."
   ]
  },
  {
   "cell_type": "code",
   "execution_count": 3,
   "metadata": {},
   "outputs": [],
   "source": [
    "units = pv.data.UnitData(\n",
    "    kb=8.314462435405199e-3,\n",
    "    energy_str='kJ/mol',\n",
    "    energy_conversion=1.0,\n",
    "    length_str='nm',\n",
    "    length_conversion=1.0,\n",
    "    volume_str='nm^3',\n",
    "    volume_conversion=1.0,\n",
    "    temperature_str='K',\n",
    "    temperature_conversion=1.0,\n",
    "    pressure_str='bar',\n",
    "    pressure_conversion=1.0,\n",
    "    time_str='ps',\n",
    "    time_conversion=1.0\n",
    ")"
   ]
  },
  {
   "cell_type": "markdown",
   "metadata": {},
   "source": [
    "For the python array example, we will only look at the simulations performed under NVT conditions using the velocity-rescale thermostat. There are two simulations: One ran at 300K, and one ran at 308K."
   ]
  },
  {
   "cell_type": "code",
   "execution_count": 4,
   "metadata": {},
   "outputs": [],
   "source": [
    "ensemble_1 = pv.data.EnsembleData(\n",
    "    ensemble='NVT',\n",
    "    natoms=900*3,\n",
    "    volume=3.01125**3,\n",
    "    temperature=300\n",
    ")\n",
    "ensemble_2 = pv.data.EnsembleData(\n",
    "    ensemble='NVT',\n",
    "    natoms=900*3,\n",
    "    volume=3.01125**3,\n",
    "    temperature=308\n",
    ")\n",
    "dir_1 = 'md_NVT_vr_1'\n",
    "dir_2 = 'md_NVT_vr_2'"
   ]
  },
  {
   "cell_type": "markdown",
   "metadata": {},
   "source": [
    "In this example, we will assume that we have the kinetic energy, the potential energy, and the total energy as 1-dimensional numpy arrays. These might have been obtained, e.g., from the python API of a simulation code, or from other python-based analysis tools. Here, for the sake of having an easy example, we will simply read them from files."
   ]
  },
  {
   "cell_type": "code",
   "execution_count": 8,
   "metadata": {},
   "outputs": [],
   "source": [
    "kin_ene_1 = []\n",
    "pot_ene_1 = []\n",
    "tot_ene_1 = []\n",
    "with open(dir_1 + '/kinetic_energy.dat') as f:\n",
    "    for line in f:\n",
    "        kin_ene_1.append(float(line.strip()))\n",
    "with open(dir_1 + '/potential_energy.dat') as f:\n",
    "    for line in f:\n",
    "        pot_ene_1.append(float(line.strip()))\n",
    "with open(dir_1 + '/total_energy.dat') as f:\n",
    "    for line in f:\n",
    "        tot_ene_1.append(float(line.strip()))\n",
    "kin_ene_1 = np.array(kin_ene_1)\n",
    "pot_ene_1 = np.array(pot_ene_1)\n",
    "tot_ene_1 = np.array(tot_ene_1)\n",
    "\n",
    "kin_ene_2 = []\n",
    "pot_ene_2 = []\n",
    "tot_ene_2 = []\n",
    "with open(dir_2 + '/kinetic_energy.dat') as f:\n",
    "    for line in f:\n",
    "        kin_ene_2.append(float(line.strip()))\n",
    "with open(dir_2 + '/potential_energy.dat') as f:\n",
    "    for line in f:\n",
    "        pot_ene_2.append(float(line.strip()))\n",
    "with open(dir_2 + '/total_energy.dat') as f:\n",
    "    for line in f:\n",
    "        tot_ene_2.append(float(line.strip()))\n",
    "kin_ene_2 = np.array(kin_ene_2)\n",
    "pot_ene_2 = np.array(pot_ene_2)\n",
    "tot_ene_2 = np.array(tot_ene_2)"
   ]
  },
  {
   "cell_type": "markdown",
   "metadata": {},
   "source": [
    "Using these arrays, we create the observables data structures:"
   ]
  },
  {
   "cell_type": "code",
   "execution_count": 9,
   "metadata": {},
   "outputs": [],
   "source": [
    "observables_1 = pv.data.ObservableData(\n",
    "    kinetic_energy = kin_ene_1,\n",
    "    potential_energy = pot_ene_1,\n",
    "    total_energy = tot_ene_1\n",
    ")\n",
    "observables_2 = pv.data.ObservableData(\n",
    "    kinetic_energy = kin_ene_2,\n",
    "    potential_energy = pot_ene_2,\n",
    "    total_energy = tot_ene_2\n",
    ")"
   ]
  },
  {
   "cell_type": "markdown",
   "metadata": {},
   "source": [
    "We can now create a representation of the simulation results by creating the object explicitly, i.e. without the help of a parser:"
   ]
  },
  {
   "cell_type": "code",
   "execution_count": 10,
   "metadata": {},
   "outputs": [],
   "source": [
    "result_1 = pv.data.SimulationData(\n",
    "    units=units, ensemble=ensemble_1,\n",
    "    system=system, observables=observables_1\n",
    ")\n",
    "result_2 = pv.data.SimulationData(\n",
    "    units=units, ensemble=ensemble_2,\n",
    "    system=system, observables=observables_2\n",
    ")"
   ]
  },
  {
   "cell_type": "markdown",
   "metadata": {},
   "source": [
    "## Run checks"
   ]
  },
  {
   "cell_type": "markdown",
   "metadata": {},
   "source": [
    "As with the other parsers, we can now test, for example, the kinetic energy using the created simulation result data structure, where\n",
    "\n",
    "* the first input is the simulation results read in,\n",
    "* `strict` determines whether we test the full distribution (`True`) or only determine the mean and the variance of the distribution (`False`),\n",
    "* `verbosity` sets the level of detail of the output  (with `verbosity=0` being quiet and `verbosity=3` being the most chatty),\n",
    "* `filename` is being used to plot the resulting distribution for visual inspection."
   ]
  },
  {
   "cell_type": "code",
   "execution_count": 11,
   "metadata": {},
   "outputs": [
    {
     "name": "stdout",
     "output_type": "stream",
     "text": [
      "==> Kinetic energy test of simulation md_NVT_vr_1\n",
      "After equilibration, decorrelation and tail pruning, 97.27% (17509 frames) of original Kinetic energy remain.\n",
      "Kinetic energy distribution check (non-strict)\n",
      "Analytical distribution (T=300.00 K):\n",
      " * mu: 6730.97 kJ/mol\n",
      " * sigma: 129.57 kJ/mol\n",
      "Trajectory:\n",
      " * mu: 6729.71 +- 0.96 kJ/mol\n",
      "   T(mu) = 299.94 +- 0.04 K\n",
      " * sigma: 130.01 +- 0.73 kJ/mol\n",
      "   T(sigma) = 301.01 +- 1.69 K\n",
      "==> Kinetic energy test of simulation md_NVT_vr_2\n",
      "After equilibration, decorrelation and tail pruning, 90.29% (16253 frames) of original Kinetic energy remain.\n",
      "Kinetic energy distribution check (non-strict)\n",
      "Analytical distribution (T=308.00 K):\n",
      " * mu: 6910.47 kJ/mol\n",
      " * sigma: 133.03 kJ/mol\n",
      "Trajectory:\n",
      " * mu: 6911.29 +- 1.02 kJ/mol\n",
      "   T(mu) = 308.04 +- 0.05 K\n",
      " * sigma: 133.35 +- 0.84 kJ/mol\n",
      "   T(sigma) = 308.74 +- 1.95 K\n"
     ]
    },
    {
     "data": {
      "text/plain": [
       "(0.8079285996049095, 0.37868329464899947)"
      ]
     },
     "execution_count": 11,
     "metadata": {},
     "output_type": "execute_result"
    }
   ],
   "source": [
    "print('==> Kinetic energy test of simulation ' + dir_1)\n",
    "pv.kinetic_energy.distribution(result_1, strict=False, verbosity=2,\n",
    "                               filename='ke_flat_vr_NVT_1')\n",
    "print('==> Kinetic energy test of simulation ' + dir_2)\n",
    "pv.kinetic_energy.distribution(result_2, strict=False, verbosity=2,\n",
    "                               filename='ke_flat_vr_NVT_2')"
   ]
  },
  {
   "cell_type": "markdown",
   "metadata": {},
   "source": [
    "We can also test the distribution of the potential energy. While the first two inputs to the tests are the parsed simulation results, `verbosity` sets the level of detail of the output  (with `verbosity=0` being quiet and `verbosity=3` being the most chatty), and `filename` is being used to plot the resulting distribution for visual inspection."
   ]
  },
  {
   "cell_type": "code",
   "execution_count": 12,
   "metadata": {},
   "outputs": [
    {
     "name": "stdout",
     "output_type": "stream",
     "text": [
      "==> Potential energy test\n",
      "Analytical slope of ln(P_2(U)/P_1(U)): 0.01041319\n"
     ]
    },
    {
     "name": "stderr",
     "output_type": "stream",
     "text": [
      "/home/pascal/physval/pyenv/3.6-jupyter/lib/python3.6/site-packages/scipy/stats/stats.py:1713: FutureWarning: Using a non-tuple sequence for multidimensional indexing is deprecated; use `arr[tuple(seq)]` instead of `arr[seq]`. In the future this will be interpreted as an array index, `arr[np.array(seq)]`, which will result either in an error or a different result.\n",
      "  return np.add.reduce(sorted[indexer] * weights, axis=axis) / sumval\n"
     ]
    },
    {
     "name": "stdout",
     "output_type": "stream",
     "text": [
      "After equilibration, decorrelation and tail pruning, 82.43% (14839 frames) of original Trajectory 1 remain.\n",
      "After equilibration, decorrelation and tail pruning, 82.77% (14899 frames) of original Trajectory 2 remain.\n",
      "Overlap is 89.9% of trajectory 1 and 88.0% of trajectory 2.\n",
      "A rule of thumb states that a good overlap is found when dT/T = (2*kB*T)/(sig),\n",
      "where sig is the standard deviation of the energy distribution.\n",
      "For the current trajectories, dT = 8.0, sig1 = 175.3 and sig2 = 178.1.\n",
      "According to the rule of thumb, given T1, a good dT is dT = 8.5, and\n",
      "                                given T2, a good dT is dT = 8.9.\n",
      "Rule of thumb estimates that dT = 8.7 would be optimal (currently, dT = 8.0)\n",
      "==================================================\n",
      "Linear Fit Analysis (analytical error)\n",
      "==================================================\n",
      "Free energy\n",
      "    373.52454 +/- 4.55809\n",
      "Estimated slope                  |  True slope\n",
      "    0.010420  +/- 0.000127       |  0.010413 \n",
      "    (0.05 quantiles from true slope)\n",
      "Estimated dT                     |  True dT\n",
      "    8.0    +/- 0.1               |  8.0   \n",
      "==================================================\n",
      "==================================================\n",
      "Maximum Likelihood Analysis (analytical error)\n",
      "==================================================\n",
      "Free energy\n",
      "    376.28562 +/- 4.56176\n",
      "Estimated slope                  |  True slope\n",
      "    0.010497  +/- 0.000127       |  0.010413 \n",
      "    (0.66 quantiles from true slope)\n",
      "Estimated dT                     |  True dT\n",
      "    8.1    +/- 0.1               |  8.0   \n",
      "==================================================\n"
     ]
    },
    {
     "data": {
      "text/plain": [
       "[0.6607683512027682]"
      ]
     },
     "execution_count": 12,
     "metadata": {},
     "output_type": "execute_result"
    }
   ],
   "source": [
    "print('==> Potential energy test')\n",
    "pv.ensemble.check(result_1, result_2,\n",
    "                  verbosity=2, filename='pe_flat_vr_NVT')"
   ]
  },
  {
   "cell_type": "code",
   "execution_count": null,
   "metadata": {},
   "outputs": [],
   "source": []
  }
 ],
 "metadata": {
  "kernelspec": {
   "display_name": "Python 3",
   "language": "python",
   "name": "python3"
  },
  "language_info": {
   "codemirror_mode": {
    "name": "ipython",
    "version": 3
   },
   "file_extension": ".py",
   "mimetype": "text/x-python",
   "name": "python",
   "nbconvert_exporter": "python",
   "pygments_lexer": "ipython3",
   "version": "3.6.6"
  }
 },
 "nbformat": 4,
 "nbformat_minor": 2
}
