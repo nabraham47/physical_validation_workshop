{
 "cells": [
  {
   "cell_type": "code",
   "execution_count": 1,
   "metadata": {},
   "outputs": [],
   "source": [
    "# Full documentation at http://physical-validation.readthedocs.io/\n",
    "import physical_validation as pv"
   ]
  },
  {
   "cell_type": "code",
   "execution_count": 2,
   "metadata": {},
   "outputs": [
    {
     "name": "stdout",
     "output_type": "stream",
     "text": [
      "###########################################################################\n",
      "# WARNING: The LAMMPS parser is an experimental feature under current     #\n",
      "#          development. You can help us to improve it by reporting errors #\n",
      "#          at https://github.com/shirtsgroup/physical_validation          #\n",
      "#          Thank you!                                                     #\n",
      "###########################################################################\n"
     ]
    }
   ],
   "source": [
    "# Create a LAMMPS parser\n",
    "parser = pv.data.LammpsParser()"
   ]
  },
  {
   "cell_type": "code",
   "execution_count": 3,
   "metadata": {},
   "outputs": [],
   "source": [
    "# In this example, we will only look at the simulations performed under\n",
    "# NVT conditions using `fix nvt` (Nose-Hoover thermostat). There are two simulations:\n",
    "# One ran at 300K, and one ran at 308K.\n",
    "ensemble_1 = pv.data.EnsembleData(\n",
    "    ensemble='NVT',\n",
    "    natoms=100*3,\n",
    "    volume=20**3,\n",
    "    temperature=300\n",
    ")\n",
    "ensemble_2 = pv.data.EnsembleData(\n",
    "    ensemble='NVT',\n",
    "    natoms=100*3,\n",
    "    volume=20**3,\n",
    "    temperature=308\n",
    ")\n",
    "dir_1 = 'nh_1'\n",
    "dir_2 = 'nh_2'"
   ]
  },
  {
   "cell_type": "code",
   "execution_count": 4,
   "metadata": {},
   "outputs": [
    {
     "name": "stderr",
     "output_type": "stream",
     "text": [
      "/home/pascal/physval/pyenv/3.6-jupyter/lib/python3.6/site-packages/physical_validation/data/lammps_parser.py:457: UserWarning: Multiple runs found in log file. Assumed prior runs were equilibration and used only last run.\n",
      "  warnings.warn('Multiple runs found in log file. Assumed prior runs '\n",
      "/home/pascal/physval/pyenv/3.6-jupyter/lib/python3.6/site-packages/physical_validation/data/lammps_parser.py:168: UserWarning: Found `fix shake` or `fix rattle`. Reading of constraints is not implemented yet. Please set self.system.nconstraints manually!\n",
      "  warnings.warn('Found `fix shake` or `fix rattle`. Reading of '\n",
      "/home/pascal/physval/pyenv/3.6-jupyter/lib/python3.6/site-packages/physical_validation/data/observable_data.py:208: UserWarning: Mismatch in number of frames. Setting `nframes = None`.\n",
      "  warnings.warn('Mismatch in number of frames. '\n"
     ]
    }
   ],
   "source": [
    "# We can now use the LAMMPS parser to create simulation results for the two NVT\n",
    "# simulations, using the ensemble definitions created before:\n",
    "result_1 = parser.get_simulation_data(\n",
    "    ensemble=ensemble_1,\n",
    "    in_file=dir_1 + '/water.in',\n",
    "    log_file=dir_1 + '/log.lammps',\n",
    "    data_file=dir_1 + '/water.lmp',\n",
    "    dump_file=dir_1 + '/dump.atom'\n",
    ")\n",
    "result_2 = parser.get_simulation_data(\n",
    "    ensemble=ensemble_2,\n",
    "    in_file=dir_2 + '/water.in',\n",
    "    log_file=dir_2 + '/log.lammps',\n",
    "    data_file=dir_2 + '/water.lmp',\n",
    "    dump_file=dir_2 + '/dump.atom'\n",
    ")\n"
   ]
  },
  {
   "cell_type": "code",
   "execution_count": 5,
   "metadata": {},
   "outputs": [],
   "source": [
    "# The LAMMPS parser is currently not able to set the number of constraints due\n",
    "# to `fix shake` or `fix rattle` commands (see output of previous commands).\n",
    "# We'll hence add this here (3 constraints per molecule):\n",
    "result_1.system.nconstraints=300\n",
    "result_2.system.nconstraints=300"
   ]
  },
  {
   "cell_type": "code",
   "execution_count": 6,
   "metadata": {},
   "outputs": [
    {
     "name": "stdout",
     "output_type": "stream",
     "text": [
      "==> Kinetic energy test of simulation nh_1\n",
      "After equilibration, decorrelation and tail pruning, 98.01% (197 frames) of original Kinetic energy remain.\n",
      "Kinetic energy distribution check (non-strict)\n",
      "Analytical distribution (T=300.00 K):\n",
      " * mu: 178.85 kcal/mol\n",
      " * sigma: 10.33 kcal/mol\n",
      "Trajectory:\n",
      " * mu: 177.74 +- 0.68 kcal/mol\n",
      "   T(mu) = 298.13 +- 1.14 K\n",
      " * sigma: 10.37 +- 0.66 kcal/mol\n",
      "   T(sigma) = 301.16 +- 19.17 K\n",
      "==> Kinetic energy test of simulation nh_2\n",
      "After equilibration, decorrelation and tail pruning, 100.00% (201 frames) of original Kinetic energy remain.\n",
      "Kinetic energy distribution check (non-strict)\n",
      "Analytical distribution (T=308.00 K):\n",
      " * mu: 183.62 kcal/mol\n",
      " * sigma: 10.60 kcal/mol\n",
      "Trajectory:\n",
      " * mu: 182.78 +- 0.75 kcal/mol\n",
      "   T(mu) = 306.59 +- 1.26 K\n",
      " * sigma: 10.26 +- 0.46 kcal/mol\n",
      "   T(sigma) = 298.22 +- 13.26 K\n"
     ]
    },
    {
     "data": {
      "text/plain": [
       "(1.11858538588982, 0.7370659213215571)"
      ]
     },
     "execution_count": 6,
     "metadata": {},
     "output_type": "execute_result"
    }
   ],
   "source": [
    "# As with the other parsers, we can now test, for example, the kinetic energy using the\n",
    "# created simulation result data structure, where\n",
    "# the first input is the simulation results read in,\n",
    "# `strict` determines whether we test the full distribution (True)\n",
    "# or only determine the mean and the variance of the distribution (False),\n",
    "# `verbosity` sets the level of detail of the output  (with verbosity=0\n",
    "# being quiet and verbosity=3 being the most chatty), and the filename is being used to\n",
    "# plot the resulting distribution for visual inspection.\n",
    "print('==> Kinetic energy test of simulation ' + dir_1)\n",
    "pv.kinetic_energy.distribution(result_1, strict=False, verbosity=2,\n",
    "                               filename='ke_lammps_vr_NVT_1')\n",
    "print('==> Kinetic energy test of simulation ' + dir_2)\n",
    "pv.kinetic_energy.distribution(result_2, strict=False, verbosity=2,\n",
    "                               filename='ke_lammps_vr_NVT_2')"
   ]
  },
  {
   "cell_type": "code",
   "execution_count": 7,
   "metadata": {},
   "outputs": [
    {
     "name": "stdout",
     "output_type": "stream",
     "text": [
      "==> Potential energy test\n",
      "Analytical slope of ln(P_2(U)/P_1(U)): 0.04356879\n",
      "After equilibration, decorrelation and tail pruning, 25.37% (51 frames) of original Trajectory 1 remain.\n",
      "After equilibration, decorrelation and tail pruning, 27.36% (55 frames) of original Trajectory 2 remain.\n",
      "Overlap is 78.4% of trajectory 1 and 92.7% of trajectory 2.\n",
      "A rule of thumb states that a good overlap is found when dT/T = (2*kB*T)/(sig),\n",
      "where sig is the standard deviation of the energy distribution.\n",
      "For the current trajectories, dT = 8.0, sig1 = 16.3 and sig2 = 15.0.\n",
      "According to the rule of thumb, given T1, a good dT is dT = 21.9, and\n",
      "                                given T2, a good dT is dT = 25.1.\n",
      "Rule of thumb estimates that dT = 23.5 would be optimal (currently, dT = 8.0)\n",
      "==================================================\n",
      "Linear Fit Analysis (analytical error)\n",
      "==================================================\n",
      "Free energy\n",
      "    280.16085 +/- 259.03565\n",
      "Estimated slope                  |  True slope\n",
      "    0.284965  +/- 0.263054       |  0.043569 \n",
      "    (0.92 quantiles from true slope)\n",
      "Estimated dT                     |  True dT\n",
      "    52.3   +/- 48.3              |  8.0   \n",
      "==================================================\n",
      "==================================================\n",
      "Maximum Likelihood Analysis (analytical error)\n",
      "==================================================\n",
      "Free energy\n",
      "    53.81964 +/- 17.21784\n",
      "Estimated slope                  |  True slope\n",
      "    0.054533  +/- 0.017511       |  0.043569 \n",
      "    (0.63 quantiles from true slope)\n",
      "Estimated dT                     |  True dT\n",
      "    10.0   +/- 3.2               |  8.0   \n",
      "==================================================\n"
     ]
    },
    {
     "data": {
      "text/plain": [
       "[0.6261178879899326]"
      ]
     },
     "execution_count": 7,
     "metadata": {},
     "output_type": "execute_result"
    }
   ],
   "source": [
    "# We can also test the distribution of the potential energy. While the first two\n",
    "# inputs to the tests are the parsed simulation results, `verbosity` sets the level of\n",
    "# detail of the output  (with verbosity=0 being quiet and verbosity=3 being the most chatty),\n",
    "# and the filename is being used to plot the resulting distribution for visual inspection.\n",
    "print('==> Potential energy test')\n",
    "pv.ensemble.check(result_1, result_2,\n",
    "                  verbosity=2, filename='pe_lammps_vr_NVT')"
   ]
  },
  {
   "cell_type": "code",
   "execution_count": null,
   "metadata": {},
   "outputs": [],
   "source": []
  }
 ],
 "metadata": {
  "kernelspec": {
   "display_name": "Python 3",
   "language": "python",
   "name": "python3"
  },
  "language_info": {
   "codemirror_mode": {
    "name": "ipython",
    "version": 3
   },
   "file_extension": ".py",
   "mimetype": "text/x-python",
   "name": "python",
   "nbconvert_exporter": "python",
   "pygments_lexer": "ipython3",
   "version": "3.6.6"
  }
 },
 "nbformat": 4,
 "nbformat_minor": 2
}
